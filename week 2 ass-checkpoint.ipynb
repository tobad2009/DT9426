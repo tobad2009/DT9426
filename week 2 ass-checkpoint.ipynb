{
 "cells": [
  {
   "cell_type": "code",
   "execution_count": 9,
   "metadata": {},
   "outputs": [
    {
     "name": "stdout",
     "output_type": "stream",
     "text": [
      "Please enter year:2012\n",
      "Its a leap Year\n"
     ]
    }
   ],
   "source": [
    "import math\n",
    "\n",
    "user_input = int(input(\"Please enter year:\"))\n",
    "\n",
    "if user_input%4==0:\n",
    "    print(\"Its a leap Year\")\n",
    "else:\n",
    "    print(\"It is not a leap year,last leap year was 2016\")"
   ]
  },
  {
   "cell_type": "code",
   "execution_count": 3,
   "metadata": {},
   "outputs": [
    {
     "name": "stdout",
     "output_type": "stream",
     "text": [
      "Please input month 1-12:4\n",
      "Apr Spring\n"
     ]
    }
   ],
   "source": [
    "months = [\"Jan\",\"Feb\",\"Mar\",\"Apr\",\"May\",\"Jun\",\"Jul\",\"Aug\",\"Sep\",\"Oct\",\"Nov\",\"Dec\"]\n",
    "seasons = [\"Summer\",\"Winter\",\"Autumn\",\"Spring\"] \n",
    "user_input =int(input(\"Please input month 1-12:\"))\n",
    "if user_input==1:\n",
    "    print(months[0],seasons[1])\n",
    "elif user_input==2:\n",
    "    print(months[1],seasons[1])\n",
    "elif user_input==3:\n",
    "    print(months[2],seasons[3])\n",
    "elif user_input==4:\n",
    "    print(months[3],seasons[3])\n",
    "elif user_input==5:\n",
    "    print(months[4],seasons[3])\n",
    "elif user_input==6:\n",
    "    print(months[5],seasons[0])\n",
    "elif user_input==7:\n",
    "    print(months[6],seasons[0])\n",
    "elif user_input==8:\n",
    "    print(months[7],seasons[0])\n",
    "elif user_input==9:\n",
    "    print(months[8],seasons[2])\n",
    "elif user_input==10:\n",
    "    print(months[9],seasons[2])\n",
    "elif user_input==11:\n",
    "    print(months[10],seasons[2])\n",
    "elif user_input==12:\n",
    "    print(months[11],seasons[1])\n",
    "else:\n",
    "    print(\"Wrong input, Select the right input\")"
   ]
  },
  {
   "cell_type": "code",
   "execution_count": 14,
   "metadata": {},
   "outputs": [
    {
     "name": "stdout",
     "output_type": "stream",
     "text": [
      "Enter corresponding items from list\n",
      "pear\n",
      "Enter Quantity needed:5\n",
      "You Entered: pear\n",
      "The quantity is: 5\n"
     ]
    }
   ],
   "source": [
    "items = [\"pear\",\"orange\",\"banana\",\"tomato\",\"cucumber\"]\n",
    "\n",
    "print(\"Enter corresponding items from list\")\n",
    "sel_item = input()\n",
    "userInput=input(\"Enter Quantity needed:\")\n",
    "\n",
    "while sel_item in items:\n",
    "    if sel_item in items:\n",
    "        print(\"You Entered: \" + sel_item)\n",
    "        print(\"The quantity is: \"+ userInput)\n",
    "        break\n",
    "    else:\n",
    "        print(\"Sorry Order not available\")"
   ]
  },
  {
   "cell_type": "code",
   "execution_count": 21,
   "metadata": {},
   "outputs": [
    {
     "name": "stdout",
     "output_type": "stream",
     "text": [
      "8\n",
      "67\n",
      "9\n",
      "67\n",
      "30\n",
      "67\n",
      "67\n",
      "67\n"
     ]
    }
   ],
   "source": [
    "nums = [8, 6, 9, 30, 7, 67, 27]\n",
    "top = nums[0]\n",
    "for i in nums:\n",
    "    if i >= top:\n",
    "        top = i\n",
    "        print (top)\n",
    "        print (max(nums))"
   ]
  },
  {
   "cell_type": "code",
   "execution_count": 18,
   "metadata": {},
   "outputs": [],
   "source": []
  },
  {
   "cell_type": "code",
   "execution_count": null,
   "metadata": {},
   "outputs": [],
   "source": []
  }
 ],
 "metadata": {
  "kernelspec": {
   "display_name": "Python 3",
   "language": "python",
   "name": "python3"
  },
  "language_info": {
   "codemirror_mode": {
    "name": "ipython",
    "version": 3
   },
   "file_extension": ".py",
   "mimetype": "text/x-python",
   "name": "python",
   "nbconvert_exporter": "python",
   "pygments_lexer": "ipython3",
   "version": "3.7.0"
  }
 },
 "nbformat": 4,
 "nbformat_minor": 2
}
